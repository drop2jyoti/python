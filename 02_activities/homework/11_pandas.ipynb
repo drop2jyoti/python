{
 "cells": [
  {
   "cell_type": "markdown",
   "metadata": {},
   "source": [
    "# Pandas\n",
    "## Practice Problems"
   ]
  },
  {
   "cell_type": "markdown",
   "metadata": {},
   "source": [
    "### 1. Start by loading the `subway_stations.csv` to a DataFrame, and then:\n",
    "\n",
    "1.   Check the first 5 rows of subway_stations.\n",
    "2.   Check subway_stations column data types and shape.\n",
    "3.   How many unique values are in the station column?\n",
    "4.   merge() the subway station data into delays_w_reasons. Make sure that all delay records are kept, even if there is no matching station name in subway_stations. The resulting DataFrame should have 16,370 rows."
   ]
  },
  {
   "cell_type": "code",
   "execution_count": 1,
   "metadata": {},
   "outputs": [
    {
     "name": "stdout",
     "output_type": "stream",
     "text": [
      "    stop_lat   stop_lon            station\n",
      "0  43.666061 -79.411065   BATHURST STATION\n",
      "1  43.670149 -79.390089        BAY STATION\n",
      "2  43.766872 -79.386703    BAYVIEW STATION\n",
      "3  43.769202 -79.376312  BESSARION STATION\n",
      "4  43.670049 -79.385389      BLOOR STATION\n"
     ]
    }
   ],
   "source": [
    "# Your code here\n",
    "import numpy as np\n",
    "import pandas as pd\n",
    "\n",
    "subway_stations = pd.read_csv('../../05_src/data/slides_data/subway_stations.csv')\n",
    "print(subway_stations.head(5))\n"
   ]
  },
  {
   "cell_type": "markdown",
   "metadata": {},
   "source": [
    "<details>\n",
    "  <summary>Answer</summary>\n",
    "\n",
    "  ```python\n",
    "  import numpy as np\n",
    "  import pandas as pd\n",
    "\n",
    "  subway = pd.read_csv('/content/data/subway_stations.csv') #change path\n",
    "  subway.head()\n",
    "  ```\n",
    "</details>"
   ]
  },
  {
   "cell_type": "markdown",
   "metadata": {},
   "source": [
    "2.   Check subway_stations column data types and shape.\n"
   ]
  },
  {
   "cell_type": "code",
   "execution_count": 2,
   "metadata": {},
   "outputs": [
    {
     "name": "stdout",
     "output_type": "stream",
     "text": [
      "(77, 3)\n",
      "stop_lat    float64\n",
      "stop_lon    float64\n",
      "station      object\n",
      "dtype: object\n"
     ]
    }
   ],
   "source": [
    "# Your code here\n",
    "print(subway_stations.shape)\n",
    "print(subway_stations.dtypes)"
   ]
  },
  {
   "cell_type": "markdown",
   "metadata": {},
   "source": [
    "<details>\n",
    "  <summary>Answer</summary>\n",
    "\n",
    "  ```python\n",
    "  subway.info()\n",
    "  ```\n",
    "</details>"
   ]
  },
  {
   "cell_type": "markdown",
   "metadata": {},
   "source": [
    "3.   How many unique values are in the station column?\n"
   ]
  },
  {
   "cell_type": "code",
   "execution_count": 3,
   "metadata": {},
   "outputs": [
    {
     "data": {
      "text/plain": [
       "77"
      ]
     },
     "execution_count": 3,
     "metadata": {},
     "output_type": "execute_result"
    }
   ],
   "source": [
    "# Your code here\n",
    "stations = subway_stations['station'].unique()\n",
    "stations.size"
   ]
  },
  {
   "cell_type": "markdown",
   "metadata": {},
   "source": [
    "<details>\n",
    "  <summary>Answer</summary>\n",
    "\n",
    "  ```python\n",
    "  len(subway['station'].unique())\n",
    "  ```\n",
    "</details>"
   ]
  },
  {
   "cell_type": "markdown",
   "metadata": {},
   "source": [
    "4.   merge() the subway station data into delays_w_reasons. Make sure that all delay records are kept, even if there is no matching station name in subway_stations. The resulting DataFrame should have 16,370 rows."
   ]
  },
  {
   "cell_type": "code",
   "execution_count": 13,
   "metadata": {},
   "outputs": [
    {
     "data": {
      "text/plain": [
       "(<bound method NDFrame.head of             date   time     day                station   code  min_delay  \\\n",
       " 0     2021-01-01  00:33  Friday          BLOOR STATION  MUPAA          0   \n",
       " 1     2021-01-01  00:39  Friday     SHERBOURNE STATION   EUCO          5   \n",
       " 2     2021-01-01  01:07  Friday     KENNEDY BD STATION   EUCD          5   \n",
       " 3     2021-01-01  01:41  Friday       ST CLAIR STATION   MUIS          0   \n",
       " 4     2021-01-01  02:04  Friday  SHEPPARD WEST STATION   MUIS          0   \n",
       " ...          ...    ...     ...                    ...    ...        ...   \n",
       " 16308 2021-12-31  01:10  Friday         MUSEUM STATION   SUUT          0   \n",
       " 16309 2021-12-31  01:12  Friday          FINCH STATION   SUDP          5   \n",
       " 16310 2021-12-31  01:21  Friday  EGLINTON WEST STATION  PUOPO          3   \n",
       " 16311 2021-12-31  01:37  Friday  SHEPPARD WEST STATION   SUDP          0   \n",
       " 16312 2021-12-31  07:00  Friday      DON MILLS STATION   TUSC          0   \n",
       " \n",
       "        min_gap bound line  vehicle  \\\n",
       " 0            0     N   YU     6046   \n",
       " 1            9     E   BD     5250   \n",
       " 2            9     E   BD     5249   \n",
       " 3            0   NaN   YU        0   \n",
       " 4            0   NaN   YU        0   \n",
       " ...        ...   ...  ...      ...   \n",
       " 16308        0     N   YU     5591   \n",
       " 16309       10     S   YU     5983   \n",
       " 16310        8     N   YU     6046   \n",
       " 16311        0     S   YU     5536   \n",
       " 16312        0     E  SHP     6146   \n",
       " \n",
       "                                         code_description sub_or_srt  year  \\\n",
       " 0      Passenger Assistance Alarm Activated - No Trou...        SUB  2021   \n",
       " 1                                               Couplers        SUB  2021   \n",
       " 2             Consequential Delay (2nd Delay Same Fault)        SUB  2021   \n",
       " 3      Injured or ill Customer (In Station) - Transpo...        SUB  2021   \n",
       " 4      Injured or ill Customer (In Station) - Transpo...        SUB  2021   \n",
       " ...                                                  ...        ...   ...   \n",
       " 16308                        Unauthorized at Track Level        SUB  2021   \n",
       " 16309                                  Disorderly Patron        SUB  2021   \n",
       " 16310                 OPTO (COMMS) Train Door Monitoring        SUB  2021   \n",
       " 16311                                  Disorderly Patron        SUB  2021   \n",
       " 16312                              Operator Overspeeding        SUB  2021   \n",
       " \n",
       "        hour_delay  month  hour  \n",
       " 0            0.00      1     0  \n",
       " 1            0.08      1     0  \n",
       " 2            0.08      1     1  \n",
       " 3            0.00      1     1  \n",
       " 4            0.00      1     2  \n",
       " ...           ...    ...   ...  \n",
       " 16308        0.00     12     1  \n",
       " 16309        0.08     12     1  \n",
       " 16310        0.05     12     1  \n",
       " 16311        0.00     12     1  \n",
       " 16312        0.00     12     7  \n",
       " \n",
       " [16313 rows x 16 columns]>,\n",
       " <bound method NDFrame.head of             date   time     day                station   code  min_delay  \\\n",
       " 0     2021-01-01  00:33  Friday          BLOOR STATION  MUPAA          0   \n",
       " 1     2021-01-01  00:39  Friday     SHERBOURNE STATION   EUCO          5   \n",
       " 2     2021-01-01  01:07  Friday     KENNEDY BD STATION   EUCD          5   \n",
       " 3     2021-01-01  01:41  Friday       ST CLAIR STATION   MUIS          0   \n",
       " 4     2021-01-01  02:04  Friday  SHEPPARD WEST STATION   MUIS          0   \n",
       " ...          ...    ...     ...                    ...    ...        ...   \n",
       " 16308 2021-12-31  01:10  Friday         MUSEUM STATION   SUUT          0   \n",
       " 16309 2021-12-31  01:12  Friday          FINCH STATION   SUDP          5   \n",
       " 16310 2021-12-31  01:21  Friday  EGLINTON WEST STATION  PUOPO          3   \n",
       " 16311 2021-12-31  01:37  Friday  SHEPPARD WEST STATION   SUDP          0   \n",
       " 16312 2021-12-31  07:00  Friday      DON MILLS STATION   TUSC          0   \n",
       " \n",
       "        min_gap bound line  vehicle  \\\n",
       " 0            0     N   YU     6046   \n",
       " 1            9     E   BD     5250   \n",
       " 2            9     E   BD     5249   \n",
       " 3            0   NaN   YU        0   \n",
       " 4            0   NaN   YU        0   \n",
       " ...        ...   ...  ...      ...   \n",
       " 16308        0     N   YU     5591   \n",
       " 16309       10     S   YU     5983   \n",
       " 16310        8     N   YU     6046   \n",
       " 16311        0     S   YU     5536   \n",
       " 16312        0     E  SHP     6146   \n",
       " \n",
       "                                         code_description sub_or_srt  year  \\\n",
       " 0      Passenger Assistance Alarm Activated - No Trou...        SUB  2021   \n",
       " 1                                               Couplers        SUB  2021   \n",
       " 2             Consequential Delay (2nd Delay Same Fault)        SUB  2021   \n",
       " 3      Injured or ill Customer (In Station) - Transpo...        SUB  2021   \n",
       " 4      Injured or ill Customer (In Station) - Transpo...        SUB  2021   \n",
       " ...                                                  ...        ...   ...   \n",
       " 16308                        Unauthorized at Track Level        SUB  2021   \n",
       " 16309                                  Disorderly Patron        SUB  2021   \n",
       " 16310                 OPTO (COMMS) Train Door Monitoring        SUB  2021   \n",
       " 16311                                  Disorderly Patron        SUB  2021   \n",
       " 16312                              Operator Overspeeding        SUB  2021   \n",
       " \n",
       "        hour_delay  month  hour   stop_lat   stop_lon  \n",
       " 0            0.00      1     0  43.670049 -79.385389  \n",
       " 1            0.08      1     0  43.672103 -79.376162  \n",
       " 2            0.08      1     1        NaN        NaN  \n",
       " 3            0.00      1     1  43.687857 -79.391958  \n",
       " 4            0.00      1     2  43.749571 -79.462186  \n",
       " ...           ...    ...   ...        ...        ...  \n",
       " 16308        0.00     12     1  43.667249 -79.393389  \n",
       " 16309        0.08     12     1  43.780942 -79.414829  \n",
       " 16310        0.05     12     1  43.699447 -79.436493  \n",
       " 16311        0.00     12     1  43.749571 -79.462186  \n",
       " 16312        0.00     12     7  43.776123 -79.346242  \n",
       " \n",
       " [16313 rows x 18 columns]>)"
      ]
     },
     "execution_count": 13,
     "metadata": {},
     "output_type": "execute_result"
    }
   ],
   "source": [
    "# Your code here\n",
    "delays = pd.read_excel('../../05_src/data/slides_data/ttc_subway_delays_w_reasons.xlsx')\n",
    "\n",
    "\n",
    "merged_subway_stations_with_delays = pd.merge(delays,\n",
    "                            subway_stations,\n",
    "                             how='left',\n",
    "                             left_on='station',\n",
    "                             right_on='station')\n",
    "merged_subway_stations_with_delays.head"
   ]
  },
  {
   "cell_type": "markdown",
   "metadata": {},
   "source": [
    "<details>\n",
    "  <summary>Answer</summary>\n",
    "\n",
    "  ```python\n",
    "  delay_w_reasons = pd.read_excel('/content/data/delays_w_reasons.xlsx') #change path\n",
    "merged = pd.merge(delay_w_reasons, \n",
    "                            subway, \n",
    "                            how='left',\n",
    "                            left_on='station', \n",
    "                            right_on='station')\n",
    "merged.head()\n",
    "  ```\n",
    "</details>\n",
    "\n"
   ]
  }
 ],
 "metadata": {
  "kernelspec": {
   "display_name": "dsi_participant",
   "language": "python",
   "name": "python3"
  },
  "language_info": {
   "codemirror_mode": {
    "name": "ipython",
    "version": 3
   },
   "file_extension": ".py",
   "mimetype": "text/x-python",
   "name": "python",
   "nbconvert_exporter": "python",
   "pygments_lexer": "ipython3",
   "version": "3.9.19"
  }
 },
 "nbformat": 4,
 "nbformat_minor": 2
}
